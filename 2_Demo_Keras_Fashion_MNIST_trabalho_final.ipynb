{
  "nbformat": 4,
  "nbformat_minor": 0,
  "metadata": {
    "colab": {
      "name": "2_Demo_Keras_Fashion_MNIST_trabalho_final.ipynb",
      "version": "0.3.2",
      "provenance": [],
      "collapsed_sections": []
    },
    "kernelspec": {
      "name": "python3",
      "display_name": "Python 3"
    },
    "accelerator": "GPU"
  },
  "cells": [
    {
      "cell_type": "markdown",
      "metadata": {
        "id": "RfO-8wwO1vga",
        "colab_type": "text"
      },
      "source": [
        "\n",
        "\n",
        "#Demo 2 - Operações básicas em DL via Keras (Base Fashion_MNIST)\n",
        "\n"
      ]
    },
    {
      "cell_type": "markdown",
      "metadata": {
        "id": "BzH9ocWKSVW2",
        "colab_type": "text"
      },
      "source": [
        "#### FIAP - Matéria: Deep Learning 2 - Ahirton Lopes\n",
        "\n",
        "Integrantes:\n",
        "\n",
        "| Nome dos Integrantes     | RM            | Turma |\n",
        "| :----------------------- | :------------- | :-----: |\n",
        "| Ariel Rodrigues             | RM 331163      | `2IA` |\n",
        "| Duan Nunes             | RM 330648      | `2IA` |\n",
        "| Jenifer Caroline             | RM 330720      | `2IA` |\n",
        "| Juliana Fatima            | RM 330985      | `2IA` |"
      ]
    },
    {
      "cell_type": "markdown",
      "metadata": {
        "id": "R1NRBQtTMXUB",
        "colab_type": "text"
      },
      "source": [
        "## Importando as libs e fazendo o processamento inicial do dataset"
      ]
    },
    {
      "cell_type": "code",
      "metadata": {
        "id": "iTqSYNVew2ZV",
        "colab_type": "code",
        "colab": {}
      },
      "source": [
        "import keras\n",
        "from keras.datasets import fashion_mnist\n",
        "from matplotlib import pyplot\n",
        "from random import randint\n",
        "from keras.models import Sequential\n",
        "from keras.layers import Conv2D, Dense, Flatten, MaxPooling2D"
      ],
      "execution_count": 0,
      "outputs": []
    },
    {
      "cell_type": "code",
      "metadata": {
        "id": "16WAjAMixQ5l",
        "colab_type": "code",
        "colab": {}
      },
      "source": [
        "# Configurar nossos sets de treinamento e teste\n",
        "(x_train, y_train), (x_test, y_test) = fashion_mnist.load_data()"
      ],
      "execution_count": 0,
      "outputs": []
    },
    {
      "cell_type": "code",
      "metadata": {
        "id": "FcVCZakTyPYv",
        "colab_type": "code",
        "outputId": "bbe81c58-2d02-48bf-8393-d1c3615dcadf",
        "colab": {
          "base_uri": "https://localhost:8080/",
          "height": 269
        }
      },
      "source": [
        "pyplot.imshow(x_train[randint(0, x_train.shape[0])], cmap='Blues_r'); #Testar com outros itens - só mudar o cmap - cmaps possíveis: #Testar com outros itens - só mudar o cmap - cmaps possíveis: Accent, Accent_r, Blues, Blues_r, BrBG, BrBG_r, BuGn, BuGn_r, BuPu, BuPu_r, CMRmap, CMRmap_r, Dark2, Dark2_r, GnBu, GnBu_r, Greens, Greens_r, Greys, Greys_r, OrRd, OrRd_r, Oranges, Oranges_r e +"
      ],
      "execution_count": 0,
      "outputs": [
        {
          "output_type": "display_data",
          "data": {
            "image/png": "[encoded data removed]",
            "text/plain": [
              "<Figure size 432x288 with 1 Axes>"
            ]
          },
          "metadata": {
            "tags": []
          }
        }
      ]
    },
    {
      "cell_type": "markdown",
      "metadata": {
        "id": "eFHQj34TKm0S",
        "colab_type": "text"
      },
      "source": [
        "## Modelo incial  do professor\n"
      ]
    },
    {
      "cell_type": "code",
      "metadata": {
        "id": "uPJWVU1KJBe5",
        "colab_type": "code",
        "colab": {}
      },
      "source": [
        "# Definindo nosso modelo de CNN\n",
        "\n",
        "# Redefinindo as dimensões de entrada para garantir que a convolução funcione\n",
        "\n",
        "img_rows, img_cols = 28, 28\n",
        "x_train = x_train.reshape(x_train.shape[0], img_rows, img_cols, 1)\n",
        "x_test = x_test.reshape(x_test.shape[0], img_rows, img_cols, 1)\n",
        "input_shape = (img_rows, img_cols, 1)"
      ],
      "execution_count": 0,
      "outputs": []
    },
    {
      "cell_type": "code",
      "metadata": {
        "id": "XOGlpoDOJNfV",
        "colab_type": "code",
        "colab": {}
      },
      "source": [
        "# Convertendo vetores de classes em matrizes de classe binária\n",
        "\n",
        "y_train = keras.utils.to_categorical(y_train, 10)\n",
        "y_test = keras.utils.to_categorical(y_test, 10)"
      ],
      "execution_count": 0,
      "outputs": []
    },
    {
      "cell_type": "code",
      "metadata": {
        "id": "Az7Ep0udJU8i",
        "colab_type": "code",
        "outputId": "8bfa45ff-d311-424d-ce18-8996c8996614",
        "colab": {
          "base_uri": "https://localhost:8080/",
          "height": 88
        }
      },
      "source": [
        "# Definindo nosso modelo\n",
        "\n",
        "modelini = Sequential()\n",
        "modelini.add(Conv2D(32, \n",
        "         kernel_size=(3, 3),\n",
        "         activation='relu',\n",
        "         input_shape=input_shape))\n",
        "modelini.add(Conv2D(64, (3, 3), activation='relu'))\n",
        "modelini.add(MaxPooling2D(pool_size=(2, 2)))\n",
        "modelini.add(Flatten())\n",
        "modelini.add(Dense(128, activation='relu'))\n",
        "modelini.add(Dense(10, activation='softmax'))"
      ],
      "execution_count": 0,
      "outputs": [
        {
          "output_type": "stream",
          "text": [
            "WARNING:tensorflow:From /usr/local/lib/python3.6/dist-packages/tensorflow/python/framework/op_def_library.py:263: colocate_with (from tensorflow.python.framework.ops) is deprecated and will be removed in a future version.\n",
            "Instructions for updating:\n",
            "Colocations handled automatically by placer.\n"
          ],
          "name": "stdout"
        }
      ]
    },
    {
      "cell_type": "code",
      "metadata": {
        "id": "j-E-dleGJWoJ",
        "colab_type": "code",
        "outputId": "dac734bf-c747-4cb4-a875-302b77cb564b",
        "colab": {
          "base_uri": "https://localhost:8080/",
          "height": 340
        }
      },
      "source": [
        "modelini.summary()"
      ],
      "execution_count": 0,
      "outputs": [
        {
          "output_type": "stream",
          "text": [
            "_________________________________________________________________\n",
            "Layer (type)                 Output Shape              Param #   \n",
            "=================================================================\n",
            "conv2d_1 (Conv2D)            (None, 26, 26, 32)        320       \n",
            "_________________________________________________________________\n",
            "conv2d_2 (Conv2D)            (None, 24, 24, 64)        18496     \n",
            "_________________________________________________________________\n",
            "max_pooling2d_1 (MaxPooling2 (None, 12, 12, 64)        0         \n",
            "_________________________________________________________________\n",
            "flatten_1 (Flatten)          (None, 9216)              0         \n",
            "_________________________________________________________________\n",
            "dense_1 (Dense)              (None, 128)               1179776   \n",
            "_________________________________________________________________\n",
            "dense_2 (Dense)              (None, 10)                1290      \n",
            "=================================================================\n",
            "Total params: 1,199,882\n",
            "Trainable params: 1,199,882\n",
            "Non-trainable params: 0\n",
            "_________________________________________________________________\n"
          ],
          "name": "stdout"
        }
      ]
    },
    {
      "cell_type": "code",
      "metadata": {
        "id": "uDlR2uGUo6gK",
        "colab_type": "code",
        "colab": {}
      },
      "source": [
        "modelini.compile(loss='categorical_crossentropy', \n",
        "              optimizer='adam',\n",
        "              metrics=['accuracy'])"
      ],
      "execution_count": 0,
      "outputs": []
    },
    {
      "cell_type": "code",
      "metadata": {
        "id": "OX_XcYPwJamc",
        "colab_type": "code",
        "outputId": "47f2839f-bddb-4d60-84b3-7c9183c5347e",
        "colab": {
          "base_uri": "https://localhost:8080/",
          "height": 139
        }
      },
      "source": [
        "# Definindo nosso treinamento\n",
        "\n",
        "training = modelini.fit(x_train, \n",
        "                     y_train,\n",
        "                     epochs=1,\n",
        "                     verbose=True, \n",
        "                     validation_split=0.1)"
      ],
      "execution_count": 0,
      "outputs": [
        {
          "output_type": "stream",
          "text": [
            "WARNING:tensorflow:From /usr/local/lib/python3.6/dist-packages/tensorflow/python/ops/math_ops.py:3066: to_int32 (from tensorflow.python.ops.math_ops) is deprecated and will be removed in a future version.\n",
            "Instructions for updating:\n",
            "Use tf.cast instead.\n",
            "Train on 54000 samples, validate on 6000 samples\n",
            "Epoch 1/1\n",
            "54000/54000 [==============================] - 21s 384us/step - loss: 14.4859 - acc: 0.1012 - val_loss: 14.6272 - val_acc: 0.0925\n"
          ],
          "name": "stdout"
        }
      ]
    },
    {
      "cell_type": "code",
      "metadata": {
        "id": "zC4ERYmaJgoT",
        "colab_type": "code",
        "outputId": "83bb6e5a-34c7-4ce7-a8dd-3b18fd8bfef7",
        "colab": {
          "base_uri": "https://localhost:8080/",
          "height": 68
        }
      },
      "source": [
        "loss, accuracy = modelini.evaluate(x_test, \n",
        "                                y_test, \n",
        "                                verbose=True)\n",
        "print(f\"Test loss: {loss:.3}\")\n",
        "print(f\"Test accuracy: {accuracy:.3%}\")"
      ],
      "execution_count": 0,
      "outputs": [
        {
          "output_type": "stream",
          "text": [
            "10000/10000 [==============================] - 1s 95us/step\n",
            "Test loss: 14.5\n",
            "Test accuracy: 10.000%\n"
          ],
          "name": "stdout"
        }
      ]
    },
    {
      "cell_type": "markdown",
      "metadata": {
        "id": "WYFkIEfDIT2S",
        "colab_type": "text"
      },
      "source": [
        "## Primeiro teste\n"
      ]
    },
    {
      "cell_type": "code",
      "metadata": {
        "id": "cYSq5yuQxQ-6",
        "colab_type": "code",
        "colab": {}
      },
      "source": [
        "# Definindo nosso modelo de CNN\n",
        "\n",
        "# Redefinindo as dimensões de entrada para garantir que a convolução funcione\n",
        "\n",
        "img_rows, img_cols = 28, 28\n",
        "x_train = x_train.reshape(x_train.shape[0], img_rows, img_cols, 1)\n",
        "x_test = x_test.reshape(x_test.shape[0], img_rows, img_cols, 1)\n",
        "input_shape = (img_rows, img_cols, 1)\n",
        "\n",
        "#Definindo o tipo dos dados como um float32 para melhor desempenho\n",
        "x_train = x_train.astype('float32')\n",
        "x_test = x_test.astype('float32')\n",
        "x_train /= 255\n",
        "x_test /= 255"
      ],
      "execution_count": 0,
      "outputs": []
    },
    {
      "cell_type": "code",
      "metadata": {
        "id": "eamLR-bSxRB1",
        "colab_type": "code",
        "colab": {}
      },
      "source": [
        "# Convertendo vetores de classes em matrizes de classe binária\n",
        "\n",
        "y_train = keras.utils.to_categorical(y_train, 10)\n",
        "y_test = keras.utils.to_categorical(y_test, 10)"
      ],
      "execution_count": 0,
      "outputs": []
    },
    {
      "cell_type": "code",
      "metadata": {
        "id": "SGM7kvNixRG9",
        "colab_type": "code",
        "colab": {}
      },
      "source": [
        "# Definindo nosso modelo\n",
        "\n",
        "\n",
        "model = Sequential()\n",
        "model.add(Conv2D(512, # 32 para 512\n",
        "         kernel_size=(3, 3),\n",
        "         activation='relu',\n",
        "         input_shape=input_shape))\n",
        "model.add(Conv2D(64, (3, 3), activation='relu'))\n",
        "model.add(MaxPooling2D(pool_size=(2, 2)))\n",
        "model.add(MaxPooling2D(pool_size=(2, 2))) # Mais uma camada\n",
        "model.add(Flatten())\n",
        "model.add(Dense(128, activation='sigmoid')) # De relu para sigmoid, \n",
        "model.add(Dense(10, activation='sigmoid')) # De softmax para sigmoid\n",
        "\n",
        "\n",
        "\n"
      ],
      "execution_count": 0,
      "outputs": []
    },
    {
      "cell_type": "code",
      "metadata": {
        "id": "qEZQCHnYxRJd",
        "colab_type": "code",
        "outputId": "e073b72d-5fd8-4b06-da7d-6c840b13d9ea",
        "colab": {
          "base_uri": "https://localhost:8080/",
          "height": 374
        }
      },
      "source": [
        "model.summary()"
      ],
      "execution_count": 0,
      "outputs": [
        {
          "output_type": "stream",
          "text": [
            "_________________________________________________________________\n",
            "Layer (type)                 Output Shape              Param #   \n",
            "=================================================================\n",
            "conv2d_21 (Conv2D)           (None, 26, 26, 512)       5120      \n",
            "_________________________________________________________________\n",
            "conv2d_22 (Conv2D)           (None, 24, 24, 64)        294976    \n",
            "_________________________________________________________________\n",
            "max_pooling2d_27 (MaxPooling (None, 12, 12, 64)        0         \n",
            "_________________________________________________________________\n",
            "max_pooling2d_28 (MaxPooling (None, 6, 6, 64)          0         \n",
            "_________________________________________________________________\n",
            "flatten_11 (Flatten)         (None, 2304)              0         \n",
            "_________________________________________________________________\n",
            "dense_24 (Dense)             (None, 128)               295040    \n",
            "_________________________________________________________________\n",
            "dense_25 (Dense)             (None, 10)                1290      \n",
            "=================================================================\n",
            "Total params: 596,426\n",
            "Trainable params: 596,426\n",
            "Non-trainable params: 0\n",
            "_________________________________________________________________\n"
          ],
          "name": "stdout"
        }
      ]
    },
    {
      "cell_type": "code",
      "metadata": {
        "id": "LZKCkJoxxRL_",
        "colab_type": "code",
        "colab": {}
      },
      "source": [
        "model.compile(loss='categorical_crossentropy', \n",
        "              optimizer='adam',\n",
        "              metrics=['accuracy'])"
      ],
      "execution_count": 0,
      "outputs": []
    },
    {
      "cell_type": "markdown",
      "metadata": {
        "id": "18Wym0sSSHZS",
        "colab_type": "text"
      },
      "source": [
        "Na criaçao do modelo de treinamento, como parametro "
      ]
    },
    {
      "cell_type": "code",
      "metadata": {
        "id": "5KCfiCJ3xROf",
        "colab_type": "code",
        "outputId": "537d8cf8-d3c5-46ef-ec09-79b21d57801a",
        "colab": {
          "base_uri": "https://localhost:8080/",
          "height": 714
        }
      },
      "source": [
        "# Definindo nosso treinamento\n",
        "\n",
        "training = model.fit(x_train, \n",
        "                     y_train,\n",
        "                     batch_size=50, # Estava sem batch_size, foi inserido\n",
        "                     epochs=20, # alterado de 1 para 20\n",
        "                     verbose=True, \n",
        "                     validation_split=0.1)\n"
      ],
      "execution_count": 0,
      "outputs": [
        {
          "output_type": "stream",
          "text": [
            "Train on 54000 samples, validate on 6000 samples\n",
            "Epoch 1/20\n",
            "54000/54000 [==============================] - 36s 666us/step - loss: 0.5004 - acc: 0.8281 - val_loss: 0.3253 - val_acc: 0.8805\n",
            "Epoch 2/20\n",
            "54000/54000 [==============================] - 35s 648us/step - loss: 0.2920 - acc: 0.8946 - val_loss: 0.2713 - val_acc: 0.9027\n",
            "Epoch 3/20\n",
            "54000/54000 [==============================] - 35s 647us/step - loss: 0.2434 - acc: 0.9124 - val_loss: 0.2505 - val_acc: 0.9107\n",
            "Epoch 4/20\n",
            "54000/54000 [==============================] - 35s 647us/step - loss: 0.2163 - acc: 0.9210 - val_loss: 0.2409 - val_acc: 0.9093\n",
            "Epoch 5/20\n",
            "54000/54000 [==============================] - 35s 648us/step - loss: 0.1908 - acc: 0.9304 - val_loss: 0.2246 - val_acc: 0.9143\n",
            "Epoch 6/20\n",
            "54000/54000 [==============================] - 35s 645us/step - loss: 0.1740 - acc: 0.9360 - val_loss: 0.2145 - val_acc: 0.9208\n",
            "Epoch 7/20\n",
            "54000/54000 [==============================] - 35s 646us/step - loss: 0.1544 - acc: 0.9442 - val_loss: 0.2158 - val_acc: 0.9218\n",
            "Epoch 8/20\n",
            "54000/54000 [==============================] - 35s 646us/step - loss: 0.1383 - acc: 0.9500 - val_loss: 0.2157 - val_acc: 0.9195\n",
            "Epoch 9/20\n",
            "54000/54000 [==============================] - 35s 645us/step - loss: 0.1237 - acc: 0.9553 - val_loss: 0.2139 - val_acc: 0.9245\n",
            "Epoch 10/20\n",
            "54000/54000 [==============================] - 35s 645us/step - loss: 0.1102 - acc: 0.9606 - val_loss: 0.2264 - val_acc: 0.9243\n",
            "Epoch 11/20\n",
            "54000/54000 [==============================] - 35s 646us/step - loss: 0.0964 - acc: 0.9666 - val_loss: 0.2177 - val_acc: 0.9257\n",
            "Epoch 12/20\n",
            "54000/54000 [==============================] - 35s 645us/step - loss: 0.0876 - acc: 0.9705 - val_loss: 0.2193 - val_acc: 0.9252\n",
            "Epoch 13/20\n",
            "54000/54000 [==============================] - 35s 646us/step - loss: 0.0790 - acc: 0.9729 - val_loss: 0.2245 - val_acc: 0.9270\n",
            "Epoch 14/20\n",
            "54000/54000 [==============================] - 36s 665us/step - loss: 0.0696 - acc: 0.9771 - val_loss: 0.2472 - val_acc: 0.9215\n",
            "Epoch 15/20\n",
            "54000/54000 [==============================] - 35s 651us/step - loss: 0.0610 - acc: 0.9798 - val_loss: 0.2548 - val_acc: 0.9182\n",
            "Epoch 16/20\n",
            "54000/54000 [==============================] - 35s 646us/step - loss: 0.0541 - acc: 0.9833 - val_loss: 0.2272 - val_acc: 0.9273\n",
            "Epoch 17/20\n",
            "54000/54000 [==============================] - 35s 648us/step - loss: 0.0500 - acc: 0.9845 - val_loss: 0.2497 - val_acc: 0.9225\n",
            "Epoch 18/20\n",
            "54000/54000 [==============================] - 35s 648us/step - loss: 0.0439 - acc: 0.9866 - val_loss: 0.2483 - val_acc: 0.9267\n",
            "Epoch 19/20\n",
            "54000/54000 [==============================] - 35s 649us/step - loss: 0.0404 - acc: 0.9876 - val_loss: 0.2682 - val_acc: 0.9240\n",
            "Epoch 20/20\n",
            "54000/54000 [==============================] - 35s 649us/step - loss: 0.0359 - acc: 0.9892 - val_loss: 0.2807 - val_acc: 0.9217\n"
          ],
          "name": "stdout"
        }
      ]
    },
    {
      "cell_type": "code",
      "metadata": {
        "id": "elVK7mEyxRRJ",
        "colab_type": "code",
        "outputId": "544b6c36-9e9a-4f11-9048-ae5ad8e13c68",
        "colab": {
          "base_uri": "https://localhost:8080/",
          "height": 68
        }
      },
      "source": [
        "loss, accuracy = model.evaluate(x_test, \n",
        "                                y_test, \n",
        "                                verbose=True)\n",
        "print(f\"Test loss: {loss:.3}\")\n",
        "print(f\"Test accuracy: {accuracy:.3%}\")"
      ],
      "execution_count": 0,
      "outputs": [
        {
          "output_type": "stream",
          "text": [
            "10000/10000 [==============================] - 3s 251us/step\n",
            "Test loss: 0.295\n",
            "Test accuracy: 91.940%\n"
          ],
          "name": "stdout"
        }
      ]
    },
    {
      "cell_type": "markdown",
      "metadata": {
        "id": "39M55ZkmNe38",
        "colab_type": "text"
      },
      "source": [
        "## Segundo teste"
      ]
    },
    {
      "cell_type": "code",
      "metadata": {
        "id": "B1wd4iqxOU96",
        "colab_type": "code",
        "colab": {}
      },
      "source": [
        "# Definindo nosso modelo de CNN\n",
        "\n",
        "# Redefinindo as dimensões de entrada para garantir que a convolução funcione\n",
        "\n",
        "img_rows, img_cols = 28, 28\n",
        "x_train = x_train.reshape(x_train.shape[0], img_rows, img_cols, 1)\n",
        "x_test = x_test.reshape(x_test.shape[0], img_rows, img_cols, 1)\n",
        "input_shape = (img_rows, img_cols, 1)\n",
        "\n",
        "#Definindo o tipo dos dados como um float32 para melhor desempenho\n",
        "x_train = x_train.astype('float32')\n",
        "x_test = x_test.astype('float32')\n",
        "x_train /= 255\n",
        "x_test /= 255"
      ],
      "execution_count": 0,
      "outputs": []
    },
    {
      "cell_type": "code",
      "metadata": {
        "id": "qr7Rtu-iOdvA",
        "colab_type": "code",
        "colab": {}
      },
      "source": [
        "# Convertendo vetores de classes em matrizes de classe binária\n",
        "\n",
        "y_train = keras.utils.to_categorical(y_train, 10)\n",
        "y_test = keras.utils.to_categorical(y_test, 10)"
      ],
      "execution_count": 0,
      "outputs": []
    },
    {
      "cell_type": "code",
      "metadata": {
        "id": "DcC398VlOd4X",
        "colab_type": "code",
        "colab": {}
      },
      "source": [
        "# Definindo nosso modelo\n",
        "\n",
        "\n",
        "model2 = Sequential()\n",
        "model2.add(Conv2D(512, # 32 para 512\n",
        "         kernel_size=(3, 3),\n",
        "         activation='relu',\n",
        "         input_shape=input_shape))\n",
        "model2.add(Conv2D(64, (3, 3), activation='sigmoid')) # De relu para sigmoid\n",
        "model2.add(MaxPooling2D(pool_size=(2, 2)))\n",
        "model2.add(MaxPooling2D(pool_size=(2, 2))) # Mais uma camada\n",
        "model2.add(MaxPooling2D(pool_size=(2, 2))) # Mais uma camada\n",
        "model2.add(Flatten())\n",
        "model2.add(Dense(128, activation='sigmoid')) # De relu para sigmoid, \n",
        "model2.add(Dense(10, activation='sigmoid')) # De softmax para sigmoid\n",
        "\n",
        "\n"
      ],
      "execution_count": 0,
      "outputs": []
    },
    {
      "cell_type": "code",
      "metadata": {
        "id": "pU9qtUHjOeAH",
        "colab_type": "code",
        "outputId": "94cf0138-9213-4a31-c865-e2a5c8328b7e",
        "colab": {
          "base_uri": "https://localhost:8080/",
          "height": 408
        }
      },
      "source": [
        "model2.summary()"
      ],
      "execution_count": 0,
      "outputs": [
        {
          "output_type": "stream",
          "text": [
            "_________________________________________________________________\n",
            "Layer (type)                 Output Shape              Param #   \n",
            "=================================================================\n",
            "conv2d_3 (Conv2D)            (None, 26, 26, 512)       5120      \n",
            "_________________________________________________________________\n",
            "conv2d_4 (Conv2D)            (None, 24, 24, 64)        294976    \n",
            "_________________________________________________________________\n",
            "max_pooling2d_2 (MaxPooling2 (None, 12, 12, 64)        0         \n",
            "_________________________________________________________________\n",
            "max_pooling2d_3 (MaxPooling2 (None, 6, 6, 64)          0         \n",
            "_________________________________________________________________\n",
            "max_pooling2d_4 (MaxPooling2 (None, 3, 3, 64)          0         \n",
            "_________________________________________________________________\n",
            "flatten_2 (Flatten)          (None, 576)               0         \n",
            "_________________________________________________________________\n",
            "dense_3 (Dense)              (None, 128)               73856     \n",
            "_________________________________________________________________\n",
            "dense_4 (Dense)              (None, 10)                1290      \n",
            "=================================================================\n",
            "Total params: 375,242\n",
            "Trainable params: 375,242\n",
            "Non-trainable params: 0\n",
            "_________________________________________________________________\n"
          ],
          "name": "stdout"
        }
      ]
    },
    {
      "cell_type": "code",
      "metadata": {
        "id": "gZIqiZAqOeG-",
        "colab_type": "code",
        "colab": {}
      },
      "source": [
        "model2.compile(loss='categorical_crossentropy', \n",
        "              optimizer='adam',\n",
        "              metrics=['accuracy'])"
      ],
      "execution_count": 0,
      "outputs": []
    },
    {
      "cell_type": "code",
      "metadata": {
        "id": "fwhDVryjOeMq",
        "colab_type": "code",
        "outputId": "04775715-e4a6-432c-95ed-53f8f54ebbba",
        "colab": {
          "base_uri": "https://localhost:8080/",
          "height": 714
        }
      },
      "source": [
        "# Definindo nosso treinamento\n",
        "\n",
        "training = model2.fit(x_train, \n",
        "                     y_train,\n",
        "                     batch_size=200, # Estava sem batch_size, foi inserido\n",
        "                     epochs=20, # alterado de 1 para 20\n",
        "                     verbose=True, \n",
        "                     validation_split=0.1)"
      ],
      "execution_count": 0,
      "outputs": [
        {
          "output_type": "stream",
          "text": [
            "Train on 54000 samples, validate on 6000 samples\n",
            "Epoch 1/20\n",
            "54000/54000 [==============================] - 29s 535us/step - loss: 0.3028 - acc: 0.8855 - val_loss: 0.3161 - val_acc: 0.8798\n",
            "Epoch 2/20\n",
            "54000/54000 [==============================] - 29s 537us/step - loss: 0.3099 - acc: 0.8836 - val_loss: 0.3245 - val_acc: 0.8757\n",
            "Epoch 3/20\n",
            "54000/54000 [==============================] - 29s 537us/step - loss: 0.3013 - acc: 0.8869 - val_loss: 0.3018 - val_acc: 0.8870\n",
            "Epoch 4/20\n",
            "54000/54000 [==============================] - 29s 537us/step - loss: 0.2880 - acc: 0.8916 - val_loss: 0.3094 - val_acc: 0.8813\n",
            "Epoch 5/20\n",
            "54000/54000 [==============================] - 29s 538us/step - loss: 0.2895 - acc: 0.8909 - val_loss: 0.3092 - val_acc: 0.8800\n",
            "Epoch 6/20\n",
            "54000/54000 [==============================] - 29s 537us/step - loss: 0.2925 - acc: 0.8902 - val_loss: 0.3094 - val_acc: 0.8840\n",
            "Epoch 7/20\n",
            "54000/54000 [==============================] - 29s 540us/step - loss: 0.2887 - acc: 0.8915 - val_loss: 0.3041 - val_acc: 0.8847\n",
            "Epoch 8/20\n",
            "54000/54000 [==============================] - 29s 538us/step - loss: 0.2868 - acc: 0.8929 - val_loss: 0.3085 - val_acc: 0.8852\n",
            "Epoch 9/20\n",
            "54000/54000 [==============================] - 29s 540us/step - loss: 0.2822 - acc: 0.8934 - val_loss: 0.2932 - val_acc: 0.8858\n",
            "Epoch 10/20\n",
            "54000/54000 [==============================] - 29s 539us/step - loss: 0.2810 - acc: 0.8937 - val_loss: 0.2956 - val_acc: 0.8903\n",
            "Epoch 11/20\n",
            "54000/54000 [==============================] - 29s 538us/step - loss: 0.2784 - acc: 0.8952 - val_loss: 0.2977 - val_acc: 0.8862\n",
            "Epoch 12/20\n",
            "54000/54000 [==============================] - 29s 538us/step - loss: 0.2728 - acc: 0.8979 - val_loss: 0.2998 - val_acc: 0.8843\n",
            "Epoch 13/20\n",
            "54000/54000 [==============================] - 29s 539us/step - loss: 0.2707 - acc: 0.8977 - val_loss: 0.2881 - val_acc: 0.8938\n",
            "Epoch 14/20\n",
            "54000/54000 [==============================] - 29s 538us/step - loss: 0.2675 - acc: 0.9004 - val_loss: 0.3038 - val_acc: 0.8868\n",
            "Epoch 15/20\n",
            "54000/54000 [==============================] - 29s 537us/step - loss: 0.2689 - acc: 0.8985 - val_loss: 0.2925 - val_acc: 0.8907\n",
            "Epoch 16/20\n",
            "54000/54000 [==============================] - 29s 539us/step - loss: 0.2594 - acc: 0.9027 - val_loss: 0.2797 - val_acc: 0.8918\n",
            "Epoch 17/20\n",
            "54000/54000 [==============================] - 29s 537us/step - loss: 0.2596 - acc: 0.9008 - val_loss: 0.2791 - val_acc: 0.8965\n",
            "Epoch 18/20\n",
            "54000/54000 [==============================] - 29s 537us/step - loss: 0.2604 - acc: 0.9023 - val_loss: 0.2879 - val_acc: 0.8900\n",
            "Epoch 19/20\n",
            "54000/54000 [==============================] - 29s 539us/step - loss: 0.2754 - acc: 0.8950 - val_loss: 0.2962 - val_acc: 0.8898\n",
            "Epoch 20/20\n",
            "54000/54000 [==============================] - 29s 537us/step - loss: 0.2630 - acc: 0.9006 - val_loss: 0.2754 - val_acc: 0.8962\n"
          ],
          "name": "stdout"
        }
      ]
    },
    {
      "cell_type": "code",
      "metadata": {
        "id": "NJYSdK84OeSm",
        "colab_type": "code",
        "outputId": "366ac260-c471-4c43-dc66-e521b1c2c132",
        "colab": {
          "base_uri": "https://localhost:8080/",
          "height": 68
        }
      },
      "source": [
        "loss, accuracy = model2.evaluate(x_test, \n",
        "                                y_test, \n",
        "                                verbose=True)\n",
        "print(f\"Test loss: {loss:.3}\")\n",
        "print(f\"Test accuracy: {accuracy:.3%}\")"
      ],
      "execution_count": 0,
      "outputs": [
        {
          "output_type": "stream",
          "text": [
            "10000/10000 [==============================] - 2s 248us/step\n",
            "Test loss: 0.299\n",
            "Test accuracy: 88.670%\n"
          ],
          "name": "stdout"
        }
      ]
    },
    {
      "cell_type": "markdown",
      "metadata": {
        "id": "p1AaWs03Tnqc",
        "colab_type": "text"
      },
      "source": [
        "## Resultados\n"
      ]
    },
    {
      "cell_type": "markdown",
      "metadata": {
        "id": "T5k-vOkFaWsc",
        "colab_type": "text"
      },
      "source": [
        "Código passado pelo professor"
      ]
    },
    {
      "cell_type": "code",
      "metadata": {
        "id": "cCOKk7_yRHV0",
        "colab_type": "code",
        "outputId": "a7f7994c-f3c2-4624-96bf-81cabc0482a6",
        "colab": {
          "base_uri": "https://localhost:8080/",
          "height": 68
        }
      },
      "source": [
        "loss, accuracy = modelini.evaluate(x_test, \n",
        "                                y_test, \n",
        "                                verbose=True)\n",
        "print(f\"Test loss: {loss:.3}\")\n",
        "print(f\"Test accuracy: {accuracy:.3%}\")"
      ],
      "execution_count": 0,
      "outputs": [
        {
          "output_type": "stream",
          "text": [
            "10000/10000 [==============================] - 1s 92us/step\n",
            "Test loss: 3.23\n",
            "Test accuracy: 10.000%\n"
          ],
          "name": "stdout"
        }
      ]
    },
    {
      "cell_type": "markdown",
      "metadata": {
        "id": "m6XkwGVsacaC",
        "colab_type": "text"
      },
      "source": [
        "Primeiro teste feito alterando as camadas do modelo e suas ativações"
      ]
    },
    {
      "cell_type": "code",
      "metadata": {
        "id": "UqijKAmBTnWI",
        "colab_type": "code",
        "outputId": "62708216-dd74-48aa-90b3-221536bca15c",
        "colab": {
          "base_uri": "https://localhost:8080/",
          "height": 68
        }
      },
      "source": [
        "loss, accuracy = model.evaluate(x_test, \n",
        "                                y_test, \n",
        "                                verbose=True)\n",
        "print(f\"Test loss: {loss:.3}\")\n",
        "print(f\"Test accuracy: {accuracy:.3%}\")"
      ],
      "execution_count": 0,
      "outputs": [
        {
          "output_type": "stream",
          "text": [
            "10000/10000 [==============================] - 3s 252us/step\n",
            "Test loss: 0.295\n",
            "Test accuracy: 91.940%\n"
          ],
          "name": "stdout"
        }
      ]
    },
    {
      "cell_type": "markdown",
      "metadata": {
        "id": "YrbpMacXamtC",
        "colab_type": "text"
      },
      "source": [
        "Segundo teste feito alterando as camadas do modelo e suas ativações"
      ]
    },
    {
      "cell_type": "code",
      "metadata": {
        "id": "Q7KhMPYGTtnr",
        "colab_type": "code",
        "outputId": "14a70c23-e6e4-4745-c0b8-3cb56b609768",
        "colab": {
          "base_uri": "https://localhost:8080/",
          "height": 68
        }
      },
      "source": [
        "\n",
        "\n",
        "loss, accuracy = model2.evaluate(x_test, \n",
        "                                y_test, \n",
        "                                verbose=True)\n",
        "print(f\"Test loss: {loss:.3}\")\n",
        "print(f\"Test accuracy: {accuracy:.3%}\")\n"
      ],
      "execution_count": 0,
      "outputs": [
        {
          "output_type": "stream",
          "text": [
            "10000/10000 [==============================] - 3s 252us/step\n",
            "Test loss: 2.52\n",
            "Test accuracy: 29.340%\n"
          ],
          "name": "stdout"
        }
      ]
    },
    {
      "cell_type": "markdown",
      "metadata": {
        "id": "m_g1IDrFay5d",
        "colab_type": "text"
      },
      "source": [
        "***O resultado do primeiro teste se destacou pela acuracia passar de 91,9%***"
      ]
    },
    {
      "cell_type": "code",
      "metadata": {
        "id": "m-fC2ACBa6QO",
        "colab_type": "code",
        "colab": {}
      },
      "source": [
        ""
      ],
      "execution_count": 0,
      "outputs": []
    }
  ]
}